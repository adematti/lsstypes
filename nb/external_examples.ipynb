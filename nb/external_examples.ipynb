{
 "cells": [
  {
   "cell_type": "markdown",
   "id": "9afe5849-fa81-4aa1-9808-5a8549e87fd5",
   "metadata": {},
   "source": [
    "# **lsstypes**: translation from external types\n"
   ]
  },
  {
   "cell_type": "markdown",
   "id": "68ab086d-9d7d-47e7-82fd-90d7c760042d",
   "metadata": {},
   "source": [
    "Let's review how to translate some measurements to **lsstypes**."
   ]
  },
  {
   "cell_type": "markdown",
   "id": "e329b641-7368-420f-8389-fa071a92221f",
   "metadata": {},
   "source": [
    "## pypower"
   ]
  },
  {
   "cell_type": "code",
   "execution_count": 1,
   "id": "238b45b3-592c-471c-beed-68eb9f3e76e8",
   "metadata": {},
   "outputs": [
    {
     "name": "stdout",
     "output_type": "stream",
     "text": [
      "Mesh2SpectrumPoles(labels=[{'ells': 0}, {'ells': 2}, {'ells': 4}], size=30)\n"
     ]
    }
   ],
   "source": [
    "from pathlib import Path\n",
    "import numpy as np\n",
    "\n",
    "from lsstypes import write, read\n",
    "from lsstypes.external import from_pypower, from_pycorr\n",
    "\n",
    "def generate_catalogs(size=100000, boxsize=(500,) * 3, offset=(1000., 0., 0), seed=42):\n",
    "    rng = np.random.RandomState(seed=seed)\n",
    "    positions = np.column_stack([o + rng.uniform(0., 1., size) * b for o, b in zip(offset, boxsize)])\n",
    "    weights = rng.uniform(0.5, 1., size)\n",
    "    return positions, weights\n",
    "\n",
    "def generate_pypower():\n",
    "    from pypower import CatalogFFTPower\n",
    "    kedges = np.linspace(0., 0.2, 11)\n",
    "    data_positions1, data_weights1 = generate_catalogs(seed=42)\n",
    "    randoms_positions1, randoms_weights1 = generate_catalogs(seed=43)\n",
    "    poles = CatalogFFTPower(data_positions1=data_positions1, data_weights1=data_weights1, randoms_positions1=randoms_positions1, randoms_weights1=randoms_weights1,\n",
    "                            edges=kedges, ells=(0, 2, 4), nmesh=64, resampler='tsc', interlacing=2, los=None, position_type='pos', dtype='f8').poles\n",
    "    return poles\n",
    "\n",
    "test_dir = Path('_tests')\n",
    "\n",
    "\n",
    "pypoles = generate_pypower()\n",
    "poles = from_pypower(pypoles)\n",
    "print(poles)\n",
    "assert np.allclose(poles.value(), pypoles.power.ravel())\n",
    "\n",
    "# I/O\n",
    "fn = test_dir / 'poles.h5'\n",
    "poles.write(fn)\n",
    "poles = read(fn)\n",
    "\n",
    "# Rebinning\n",
    "poles = poles.select(k=slice(0, None, 2))\n",
    "pypoles = pypoles[:(pypoles.shape[0] // 2) * 2:2]\n",
    "assert np.allclose(poles.get(0).coords('k'), pypoles.k, equal_nan=True)\n",
    "assert np.allclose(poles.value(), pypoles.power.ravel())"
   ]
  },
  {
   "cell_type": "markdown",
   "id": "8529ba14-3431-4e90-add7-eab6ffe4f0b4",
   "metadata": {},
   "source": [
    "## pycorr"
   ]
  },
  {
   "cell_type": "code",
   "execution_count": 2,
   "id": "69857315-dd15-43dd-85d9-dce093c1f580",
   "metadata": {},
   "outputs": [
    {
     "name": "stdout",
     "output_type": "stream",
     "text": [
      "Count2Correlation(labels=[{'count_name': 'DD'}, {'count_name': 'RR'}, {'count_name': 'DR'}, {'count_name': 'RD'}], size=5000)\n"
     ]
    }
   ],
   "source": [
    "def generate_pycorr():\n",
    "    from pycorr import TwoPointCorrelationFunction\n",
    "    data_positions1, data_weights1 = generate_catalogs(seed=42)\n",
    "    randoms_positions1, randoms_weights1 = generate_catalogs(seed=43)\n",
    "    edges = (np.linspace(0., 101, 51), np.linspace(-1., 1., 101))\n",
    "    return TwoPointCorrelationFunction('smu', edges, data_positions1=data_positions1, data_weights1=data_weights1,\n",
    "                                        randoms_positions1=randoms_positions1, randoms_weights1=randoms_weights1,\n",
    "                                        engine='corrfunc', position_type='pos', nthreads=4)\n",
    "\n",
    "pycorr = generate_pycorr()\n",
    "corr = from_pycorr(pycorr)\n",
    "\n",
    "# I/O\n",
    "fn = test_dir / 'corr.h5'\n",
    "corr.write(fn)\n",
    "corr = read(fn)\n",
    "print(corr)\n",
    "\n",
    "assert np.allclose(corr.coords(axis='s'), pycorr.sepavg(axis=0), equal_nan=True)\n",
    "assert np.allclose(corr.value(), pycorr.corr, equal_nan=True)\n",
    "\n",
    "# Rebinning\n",
    "corr = corr.select(s=slice(0, None, 2))\n",
    "pycorr = pycorr[:(pycorr.shape[0] // 2) * 2:2]\n",
    "assert np.allclose(corr.coords(axis='s'), pycorr.sepavg(axis=0), equal_nan=True)\n",
    "assert np.allclose(corr.value(), pycorr.corr, equal_nan=True)\n",
    "\n",
    "# To multipoles\n",
    "xi = corr.project(ells=[0, 2, 4])\n",
    "assert np.allclose(xi.value(), np.ravel(pycorr(ells=[0, 2, 4])))"
   ]
  }
 ],
 "metadata": {
  "kernelspec": {
   "display_name": "cosmodesi-main",
   "language": "python",
   "name": "cosmodesi-main"
  },
  "language_info": {
   "codemirror_mode": {
    "name": "ipython",
    "version": 3
   },
   "file_extension": ".py",
   "mimetype": "text/x-python",
   "name": "python",
   "nbconvert_exporter": "python",
   "pygments_lexer": "ipython3",
   "version": "3.10.16"
  }
 },
 "nbformat": 4,
 "nbformat_minor": 5
}
