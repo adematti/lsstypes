{
 "cells": [
  {
   "cell_type": "markdown",
   "id": "16748a53-a5c1-47cb-b31c-5c3947e09563",
   "metadata": {},
   "source": [
    "# **lsstypes**: hands-on\n",
    "\n",
    "Let's explain how types are defined in **lsstypes**."
   ]
  },
  {
   "cell_type": "markdown",
   "id": "31659f34-9799-4829-b824-408bb481ead0",
   "metadata": {},
   "source": [
    "## **ObservableLeaf**, **ObservableTree**\n",
    "\n",
    "**ObservableLeaf** represents the most basic data unit. Typically:\n",
    "- one power spectrum multipole\n",
    "- pair counts\n",
    "- one BAO parameter\n",
    "- one angular power spectrum\n",
    "- ...\n",
    "\n",
    "Let's consider an example below."
   ]
  },
  {
   "cell_type": "markdown",
   "id": "bd43bf32-8e42-496f-ad5b-781c1286b72f",
   "metadata": {},
   "source": [
    "## **ObervableLeaf**"
   ]
  },
  {
   "cell_type": "code",
   "execution_count": 1,
   "id": "3154fbca-68cd-4871-a104-12434dd21717",
   "metadata": {},
   "outputs": [],
   "source": [
    "from pathlib import Path\n",
    "import numpy as np\n",
    "\n",
    "import lsstypes\n",
    "from lsstypes import ObservableLeaf, read\n",
    "\n",
    "s = np.linspace(0., 200., 51)\n",
    "mu = np.linspace(-1., 1., 101)\n",
    "rng = np.random.RandomState(seed=42)\n",
    "counts = 1. + rng.uniform(size=(s.size, mu.size))\n",
    "# Specify all data entries, and the name of the coordinate axes\n",
    "# Optionally, some extra attributes\n",
    "counts = ObservableLeaf(counts=counts, s=s, mu=mu, coords=['s', 'mu'], attrs=dict(los='x'))"
   ]
  },
  {
   "cell_type": "code",
   "execution_count": 2,
   "id": "36f8aac2-7f98-4c83-a8f4-105193b37390",
   "metadata": {},
   "outputs": [
    {
     "name": "stdout",
     "output_type": "stream",
     "text": [
      "New shape is (46, 101), old shape is (51, 101).\n",
      "[  0.   4.   8.  12.  16.  20.  24.  28.  32.  36.  40.  44.  48.  52.\n",
      "  56.  60.  64.  68.  72.  76.  80.  84.  88.  92.  96. 100. 104. 108.\n",
      " 112. 116. 120. 124. 128. 132. 136. 140. 144. 148. 184. 188. 192. 196.\n",
      " 200.]\n"
     ]
    }
   ],
   "source": [
    "# Let's play with this object\n",
    "\n",
    "assert np.array_equal(counts.coords('s'), counts.s)\n",
    "assert np.array_equal(counts.coords('mu'), counts.mu)\n",
    "assert np.array_equal(counts.value(), counts.counts)\n",
    "\n",
    "# We can slice it\n",
    "counts2 = counts.select(s=(0., 180.))\n",
    "print(f'New shape is {counts2.shape}, old shape is {counts.shape}.')\n",
    "\n",
    "# Let's say that within the range s = (10., 180.) we want to select s = (0., 150.)\n",
    "counts2 = counts.at(s=(10., 180.)).select(s=(0., 150.))\n",
    "print(counts2.s)\n",
    "# There is a gap between 150 and 180, as expected!\n",
    "# NOTE: This will become relevant if we want to rebin in a portion of the array"
   ]
  },
  {
   "cell_type": "code",
   "execution_count": 3,
   "id": "10a4b94c-5ec0-4758-b2b7-c01b73daac97",
   "metadata": {},
   "outputs": [
    {
     "name": "stdout",
     "output_type": "stream",
     "text": [
      "Dataset:  coords_names: [b's' b'mu']\n",
      "Dataset:  counts: [[1.37454012 1.95071431 1.73199394 ... 1.02541913 1.10789143 1.03142919]\n",
      " [1.63641041 1.31435598 1.50857069 ... 1.77987555 1.64203165 1.08413996]\n",
      " [1.16162871 1.89855419 1.60642906 ... 1.05168172 1.53135463 1.54063512]\n",
      " ...\n",
      " [1.76351584 1.10868254 1.98125758 ... 1.62321037 1.74162729 1.80509731]\n",
      " [1.84503965 1.39505334 1.05126346 ... 1.5286566  1.33444253 1.51931269]\n",
      " [1.19755591 1.8051744  1.18577695 ... 1.62350531 1.13128797 1.30969171]]\n",
      "Dataset:  mu: [-1.   -0.98 -0.96 -0.94 -0.92 -0.9  -0.88 -0.86 -0.84 -0.82 -0.8  -0.78\n",
      " -0.76 -0.74 -0.72 -0.7  -0.68 -0.66 -0.64 -0.62 -0.6  -0.58 -0.56 -0.54\n",
      " -0.52 -0.5  -0.48 -0.46 -0.44 -0.42 -0.4  -0.38 -0.36 -0.34 -0.32 -0.3\n",
      " -0.28 -0.26 -0.24 -0.22 -0.2  -0.18 -0.16 -0.14 -0.12 -0.1  -0.08 -0.06\n",
      " -0.04 -0.02  0.    0.02  0.04  0.06  0.08  0.1   0.12  0.14  0.16  0.18\n",
      "  0.2   0.22  0.24  0.26  0.28  0.3   0.32  0.34  0.36  0.38  0.4   0.42\n",
      "  0.44  0.46  0.48  0.5   0.52  0.54  0.56  0.58  0.6   0.62  0.64  0.66\n",
      "  0.68  0.7   0.72  0.74  0.76  0.78  0.8   0.82  0.84  0.86  0.88  0.9\n",
      "  0.92  0.94  0.96  0.98  1.  ]\n",
      "Dataset:  name: b'leaf_base'\n",
      "Dataset:  s: [  0.   4.   8.  12.  16.  20.  24.  28.  32.  36.  40.  44.  48.  52.\n",
      "  56.  60.  64.  68.  72.  76.  80.  84.  88.  92.  96. 100. 104. 108.\n",
      " 112. 116. 120. 124. 128. 132. 136. 140. 144. 148. 152. 156. 160. 164.\n",
      " 168. 172. 176. 180. 184. 188. 192. 196. 200.]\n",
      "Dataset:  values_names: [b'counts']\n"
     ]
    }
   ],
   "source": [
    "# Now let's save it!\n",
    "test_dir = Path('_tests')\n",
    "\n",
    "# As HDF5\n",
    "fn = test_dir / 'test.h5'\n",
    "counts.write(fn)\n",
    "counts2 = read(fn)\n",
    "assert counts2 == counts\n",
    "\n",
    "# Let's explore the file!\n",
    "import h5py\n",
    "\n",
    "def print_type(name, obj):\n",
    "    if isinstance(obj, h5py.Group):\n",
    "        print(f\"Group:    {name}\")\n",
    "    elif isinstance(obj, h5py.Dataset):\n",
    "        print(f\"Dataset:  {name}: {obj[...]}\")\n",
    "\n",
    "with h5py.File(fn, \"r\") as f:\n",
    "    f.visititems(print_type)"
   ]
  },
  {
   "cell_type": "code",
   "execution_count": 4,
   "id": "c159151f-42b5-42f6-bb78-e7a79214ab5a",
   "metadata": {},
   "outputs": [],
   "source": [
    "# We can also save as txt\n",
    "\n",
    "fn = test_dir / 'test.txt'\n",
    "counts.write(fn)\n",
    "counts2 = read(fn)\n",
    "assert counts2 == counts"
   ]
  },
  {
   "cell_type": "code",
   "execution_count": 5,
   "id": "54f67dfa-54dd-46ba-9735-7204264d969c",
   "metadata": {},
   "outputs": [
    {
     "name": "stdout",
     "output_type": "stream",
     "text": [
      "_tests/test:\n",
      "attrs.json\t  counts.txt  name.txt\tvalues_names.txt\n",
      "coords_names.txt  mu.txt      s.txt\n"
     ]
    }
   ],
   "source": [
    "!ls -R _tests/test"
   ]
  },
  {
   "cell_type": "markdown",
   "id": "7f8bda85-d8d1-4f7c-be84-f8a8eaa20971",
   "metadata": {},
   "source": [
    "## **ObervableTree**\n",
    "\n",
    "An **ObservableTree** is a collection of **ObservableTree** or **ObservableLeaf** instances."
   ]
  },
  {
   "cell_type": "code",
   "execution_count": 6,
   "id": "649c8b5c-f1f4-4c48-a67b-903d226bd278",
   "metadata": {},
   "outputs": [
    {
     "name": "stdout",
     "output_type": "stream",
     "text": [
      "['pairs']\n",
      "[{'pairs': 'DD'}, {'pairs': 'DR'}, {'pairs': 'RR'}]\n",
      "New shape is [  0.   4.   8.  12.  16.  20.  24.  28.  32.  36.  40.  44.  48.  52.\n",
      "  56.  60.  64.  68.  72.  76.  80.  84.  88.  92.  96. 100. 104. 108.\n",
      " 112. 116. 120. 124. 128. 132. 136. 140. 144. 148. 152. 156. 160. 164.\n",
      " 168. 172. 176. 180. 184. 188. 192. 196. 200.], old shape is (51, 101).\n"
     ]
    }
   ],
   "source": [
    "from lsstypes import ObservableTree\n",
    "\n",
    "labels = ['DD', 'DR', 'RR']\n",
    "leaves = []\n",
    "for label in labels:\n",
    "    counts = 1. + rng.uniform(size=(s.size, mu.size))\n",
    "    leaves.append(ObservableLeaf(counts=counts, s=s, mu=mu, coords=['s', 'mu'], attrs=dict(los='x')))\n",
    "\n",
    "tree = ObservableTree(leaves, pairs=labels)\n",
    "print(tree.labels(keys_only=True))\n",
    "print(tree.labels())\n",
    "assert len(tree.value()) == tree.size\n",
    "\n",
    "# Now let's say we want to select pair DD only\n",
    "tree2 = tree.at(pairs='DD').select(s=(10., 80.))\n",
    "s1, s2 = tree2.get(pairs='DD').shape, tree2.get('DR').shape\n",
    "print(f'New shape is {s}, old shape is {s2}.')\n",
    "# Collective select\n",
    "tree2 = tree.select(s=(10., 80.))\n",
    "assert tree2.get(pairs='DD').shape == tree2.get(pairs='DR').shape\n",
    "\n",
    "correlation = tree"
   ]
  },
  {
   "cell_type": "code",
   "execution_count": 7,
   "id": "75bcaef0-99fe-426c-b8e5-bfb37934054f",
   "metadata": {},
   "outputs": [],
   "source": [
    "# We can build something more complicated!\n",
    "\n",
    "# Let's use some types defined in lsstypes/types.py\n",
    "\n",
    "from lsstypes import Mesh2SpectrumPole, Mesh2SpectrumPoles\n",
    "\n",
    "def get_spectrum(ells=(0, 2, 4), size=40, seed=42):\n",
    "    rng = np.random.RandomState(seed=seed)\n",
    "    poles = []\n",
    "    for ell in ells:\n",
    "        k_edges = np.linspace(0., 0.2, size + 1)\n",
    "        k_edges = np.column_stack([k_edges[:-1], k_edges[1:]])\n",
    "        k = k_edges.mean(axis=-1)\n",
    "        poles.append(Mesh2SpectrumPole(k=k, k_edges=k_edges, num_raw=rng.uniform(size=k.size)))\n",
    "    return Mesh2SpectrumPoles(poles, ells=list(ells))\n",
    "\n",
    "spectrum = get_spectrum()\n",
    "\n",
    "tree = ObservableTree([correlation, spectrum], observables=['correlation', 'spectrum'])\n",
    "# To get to a leaf\n",
    "tree.get(observables='correlation', pairs='DD').counts;\n",
    "# To select a subtree\n",
    "assert tree.get(observables='spectrum') == spectrum"
   ]
  },
  {
   "cell_type": "markdown",
   "id": "c52c1a95-dc7e-496a-841e-1ac75f94f164",
   "metadata": {},
   "source": [
    "## at\n",
    "Let's focus on the ``at`` syntax: ``item1.at(...)`` will return a copy of ``item1``, with elements that match ``(...)`` changed.\n",
    "``at`` statements can be chained."
   ]
  },
  {
   "cell_type": "code",
   "execution_count": 8,
   "id": "507267b3-69ee-4af2-826d-46a3a27ea7a0",
   "metadata": {},
   "outputs": [
    {
     "name": "stdout",
     "output_type": "stream",
     "text": [
      "[0.005  0.015  0.025  0.035  0.045  0.055  0.065  0.075  0.085  0.095\n",
      " 0.1025 0.1075 0.1125 0.1175 0.1225 0.1275 0.1325 0.1375 0.1425 0.1475\n",
      " 0.1525 0.1575 0.1625 0.1675 0.1725 0.1775 0.1825 0.1875 0.1925 0.1975]\n"
     ]
    }
   ],
   "source": [
    "# Restrict monopole, quadrupole to (0, 0.1)\n",
    "tree2 = tree.at(observables='spectrum', ells=[0, 2]).select(k=(0., 0.1))\n",
    "assert np.all(tree2.get(observables='spectrum', ells=2).k < 0.1)\n",
    "\n",
    "# Rebin quadrupole (leaf), within (0., 0.1)\n",
    "# To do this, we need to restrict to a leaf, i.e. what's inside at(...) should point to a single leaf\n",
    "tree2 = tree.at(observables='spectrum', ells=2).at(k=(0., 0.1)).select(k=slice(0, None, 2))\n",
    "print(tree2.get(observables='spectrum', ells=2).k)"
   ]
  },
  {
   "cell_type": "code",
   "execution_count": 9,
   "id": "407c503f-b194-41ae-9176-0a14fd695cd1",
   "metadata": {},
   "outputs": [
    {
     "name": "stdout",
     "output_type": "stream",
     "text": [
      "Group:    correlation\n",
      "Group:    correlation/DD\n",
      "Dataset:  correlation/DD/coords_names: [b's' b'mu']\n",
      "Dataset:  correlation/DD/counts: [[1.20179495 1.9088265  1.76040007 ... 1.47510836 1.38605094 1.96670614]\n",
      " [1.69716625 1.08322307 1.86295962 ... 1.73316038 1.99542151 1.2875112 ]\n",
      " [1.5382201  1.53332355 1.40564526 ... 1.23875177 1.21354285 1.41114434]\n",
      " ...\n",
      " [1.2171404  1.37364082 1.3329121  ... 1.72081632 1.24120677 1.16814109]\n",
      " [1.97209599 1.61755731 1.98141572 ... 1.2014615  1.23419443 1.52126775]\n",
      " [1.17209985 1.30543169 1.32146248 ... 1.8456263  1.91123431 1.82062739]]\n",
      "Dataset:  correlation/DD/mu: [-1.   -0.98 -0.96 -0.94 -0.92 -0.9  -0.88 -0.86 -0.84 -0.82 -0.8  -0.78\n",
      " -0.76 -0.74 -0.72 -0.7  -0.68 -0.66 -0.64 -0.62 -0.6  -0.58 -0.56 -0.54\n",
      " -0.52 -0.5  -0.48 -0.46 -0.44 -0.42 -0.4  -0.38 -0.36 -0.34 -0.32 -0.3\n",
      " -0.28 -0.26 -0.24 -0.22 -0.2  -0.18 -0.16 -0.14 -0.12 -0.1  -0.08 -0.06\n",
      " -0.04 -0.02  0.    0.02  0.04  0.06  0.08  0.1   0.12  0.14  0.16  0.18\n",
      "  0.2   0.22  0.24  0.26  0.28  0.3   0.32  0.34  0.36  0.38  0.4   0.42\n",
      "  0.44  0.46  0.48  0.5   0.52  0.54  0.56  0.58  0.6   0.62  0.64  0.66\n",
      "  0.68  0.7   0.72  0.74  0.76  0.78  0.8   0.82  0.84  0.86  0.88  0.9\n",
      "  0.92  0.94  0.96  0.98  1.  ]\n",
      "Dataset:  correlation/DD/name: b'leaf_base'\n",
      "Dataset:  correlation/DD/s: [  0.   4.   8.  12.  16.  20.  24.  28.  32.  36.  40.  44.  48.  52.\n",
      "  56.  60.  64.  68.  72.  76.  80.  84.  88.  92.  96. 100. 104. 108.\n",
      " 112. 116. 120. 124. 128. 132. 136. 140. 144. 148. 152. 156. 160. 164.\n",
      " 168. 172. 176. 180. 184. 188. 192. 196. 200.]\n",
      "Dataset:  correlation/DD/values_names: [b'counts']\n",
      "Group:    correlation/DR\n",
      "Dataset:  correlation/DR/coords_names: [b's' b'mu']\n",
      "Dataset:  correlation/DR/counts: [[1.12794994 1.99791513 1.25858422 ... 1.17178911 1.27871372 1.15885269]\n",
      " [1.1956663  1.97297738 1.15311345 ... 1.02634733 1.73912467 1.3180097 ]\n",
      " [1.79630019 1.43173282 1.4529981  ... 1.66130396 1.91125615 1.40375661]\n",
      " ...\n",
      " [1.70478429 1.85080596 1.9543786  ... 1.79922711 1.27153348 1.03318763]\n",
      " [1.51701472 1.19668643 1.75784629 ... 1.62219765 1.01213746 1.4886439 ]\n",
      " [1.64420548 1.91819177 1.38133582 ... 1.56620482 1.23792416 1.98865655]]\n",
      "Dataset:  correlation/DR/mu: [-1.   -0.98 -0.96 -0.94 -0.92 -0.9  -0.88 -0.86 -0.84 -0.82 -0.8  -0.78\n",
      " -0.76 -0.74 -0.72 -0.7  -0.68 -0.66 -0.64 -0.62 -0.6  -0.58 -0.56 -0.54\n",
      " -0.52 -0.5  -0.48 -0.46 -0.44 -0.42 -0.4  -0.38 -0.36 -0.34 -0.32 -0.3\n",
      " -0.28 -0.26 -0.24 -0.22 -0.2  -0.18 -0.16 -0.14 -0.12 -0.1  -0.08 -0.06\n",
      " -0.04 -0.02  0.    0.02  0.04  0.06  0.08  0.1   0.12  0.14  0.16  0.18\n",
      "  0.2   0.22  0.24  0.26  0.28  0.3   0.32  0.34  0.36  0.38  0.4   0.42\n",
      "  0.44  0.46  0.48  0.5   0.52  0.54  0.56  0.58  0.6   0.62  0.64  0.66\n",
      "  0.68  0.7   0.72  0.74  0.76  0.78  0.8   0.82  0.84  0.86  0.88  0.9\n",
      "  0.92  0.94  0.96  0.98  1.  ]\n",
      "Dataset:  correlation/DR/name: b'leaf_base'\n",
      "Dataset:  correlation/DR/s: [  0.   4.   8.  12.  16.  20.  24.  28.  32.  36.  40.  44.  48.  52.\n",
      "  56.  60.  64.  68.  72.  76.  80.  84.  88.  92.  96. 100. 104. 108.\n",
      " 112. 116. 120. 124. 128. 132. 136. 140. 144. 148. 152. 156. 160. 164.\n",
      " 168. 172. 176. 180. 184. 188. 192. 196. 200.]\n",
      "Dataset:  correlation/DR/values_names: [b'counts']\n",
      "Group:    correlation/RR\n",
      "Dataset:  correlation/RR/coords_names: [b's' b'mu']\n",
      "Dataset:  correlation/RR/counts: [[1.50086995 1.19416208 1.47706675 ... 1.30683813 1.10193191 1.06272159]\n",
      " [1.34886672 1.80473706 1.91872375 ... 1.77419049 1.24003842 1.72910328]\n",
      " [1.25190827 1.3952925  1.98316229 ... 1.38416018 1.90947711 1.83690345]\n",
      " ...\n",
      " [1.29329465 1.65485567 1.04012879 ... 1.62307103 1.73675635 1.34910412]\n",
      " [1.9443977  1.70926209 1.42179882 ... 1.43294712 1.48846948 1.06451261]\n",
      " [1.48598178 1.42631967 1.71254427 ... 1.31559884 1.96402829 1.68934086]]\n",
      "Dataset:  correlation/RR/mu: [-1.   -0.98 -0.96 -0.94 -0.92 -0.9  -0.88 -0.86 -0.84 -0.82 -0.8  -0.78\n",
      " -0.76 -0.74 -0.72 -0.7  -0.68 -0.66 -0.64 -0.62 -0.6  -0.58 -0.56 -0.54\n",
      " -0.52 -0.5  -0.48 -0.46 -0.44 -0.42 -0.4  -0.38 -0.36 -0.34 -0.32 -0.3\n",
      " -0.28 -0.26 -0.24 -0.22 -0.2  -0.18 -0.16 -0.14 -0.12 -0.1  -0.08 -0.06\n",
      " -0.04 -0.02  0.    0.02  0.04  0.06  0.08  0.1   0.12  0.14  0.16  0.18\n",
      "  0.2   0.22  0.24  0.26  0.28  0.3   0.32  0.34  0.36  0.38  0.4   0.42\n",
      "  0.44  0.46  0.48  0.5   0.52  0.54  0.56  0.58  0.6   0.62  0.64  0.66\n",
      "  0.68  0.7   0.72  0.74  0.76  0.78  0.8   0.82  0.84  0.86  0.88  0.9\n",
      "  0.92  0.94  0.96  0.98  1.  ]\n",
      "Dataset:  correlation/RR/name: b'leaf_base'\n",
      "Dataset:  correlation/RR/s: [  0.   4.   8.  12.  16.  20.  24.  28.  32.  36.  40.  44.  48.  52.\n",
      "  56.  60.  64.  68.  72.  76.  80.  84.  88.  92.  96. 100. 104. 108.\n",
      " 112. 116. 120. 124. 128. 132. 136. 140. 144. 148. 152. 156. 160. 164.\n",
      " 168. 172. 176. 180. 184. 188. 192. 196. 200.]\n",
      "Dataset:  correlation/RR/values_names: [b'counts']\n",
      "Dataset:  correlation/labels_names: b'pairs'\n",
      "Dataset:  correlation/labels_values: [b'DD' b'DR' b'RR']\n",
      "Dataset:  correlation/name: b'tree_base'\n",
      "Dataset:  labels_names: b'observables'\n",
      "Dataset:  labels_values: [b'correlation' b'spectrum']\n",
      "Dataset:  name: b'tree_base'\n",
      "Group:    spectrum\n",
      "Group:    spectrum/0\n",
      "Dataset:  spectrum/0/coords_names: [b'k']\n",
      "Dataset:  spectrum/0/k: [0.0025 0.0075 0.0125 0.0175 0.0225 0.0275 0.0325 0.0375 0.0425 0.0475\n",
      " 0.0525 0.0575 0.0625 0.0675 0.0725 0.0775 0.0825 0.0875 0.0925 0.0975\n",
      " 0.1025 0.1075 0.1125 0.1175 0.1225 0.1275 0.1325 0.1375 0.1425 0.1475\n",
      " 0.1525 0.1575 0.1625 0.1675 0.1725 0.1775 0.1825 0.1875 0.1925 0.1975]\n",
      "Dataset:  spectrum/0/k_edges: [[0.    0.005]\n",
      " [0.005 0.01 ]\n",
      " [0.01  0.015]\n",
      " [0.015 0.02 ]\n",
      " [0.02  0.025]\n",
      " [0.025 0.03 ]\n",
      " [0.03  0.035]\n",
      " [0.035 0.04 ]\n",
      " [0.04  0.045]\n",
      " [0.045 0.05 ]\n",
      " [0.05  0.055]\n",
      " [0.055 0.06 ]\n",
      " [0.06  0.065]\n",
      " [0.065 0.07 ]\n",
      " [0.07  0.075]\n",
      " [0.075 0.08 ]\n",
      " [0.08  0.085]\n",
      " [0.085 0.09 ]\n",
      " [0.09  0.095]\n",
      " [0.095 0.1  ]\n",
      " [0.1   0.105]\n",
      " [0.105 0.11 ]\n",
      " [0.11  0.115]\n",
      " [0.115 0.12 ]\n",
      " [0.12  0.125]\n",
      " [0.125 0.13 ]\n",
      " [0.13  0.135]\n",
      " [0.135 0.14 ]\n",
      " [0.14  0.145]\n",
      " [0.145 0.15 ]\n",
      " [0.15  0.155]\n",
      " [0.155 0.16 ]\n",
      " [0.16  0.165]\n",
      " [0.165 0.17 ]\n",
      " [0.17  0.175]\n",
      " [0.175 0.18 ]\n",
      " [0.18  0.185]\n",
      " [0.185 0.19 ]\n",
      " [0.19  0.195]\n",
      " [0.195 0.2  ]]\n",
      "Dataset:  spectrum/0/name: b'mesh2spectrumpole'\n",
      "Dataset:  spectrum/0/nmodes: [1 1 1 1 1 1 1 1 1 1 1 1 1 1 1 1 1 1 1 1 1 1 1 1 1 1 1 1 1 1 1 1 1 1 1 1 1\n",
      " 1 1 1]\n",
      "Dataset:  spectrum/0/norm: [1. 1. 1. 1. 1. 1. 1. 1. 1. 1. 1. 1. 1. 1. 1. 1. 1. 1. 1. 1. 1. 1. 1. 1.\n",
      " 1. 1. 1. 1. 1. 1. 1. 1. 1. 1. 1. 1. 1. 1. 1. 1.]\n",
      "Dataset:  spectrum/0/num_shotnoise: [0. 0. 0. 0. 0. 0. 0. 0. 0. 0. 0. 0. 0. 0. 0. 0. 0. 0. 0. 0. 0. 0. 0. 0.\n",
      " 0. 0. 0. 0. 0. 0. 0. 0. 0. 0. 0. 0. 0. 0. 0. 0.]\n",
      "Dataset:  spectrum/0/value: [0.37454012 0.95071431 0.73199394 0.59865848 0.15601864 0.15599452\n",
      " 0.05808361 0.86617615 0.60111501 0.70807258 0.02058449 0.96990985\n",
      " 0.83244264 0.21233911 0.18182497 0.18340451 0.30424224 0.52475643\n",
      " 0.43194502 0.29122914 0.61185289 0.13949386 0.29214465 0.36636184\n",
      " 0.45606998 0.78517596 0.19967378 0.51423444 0.59241457 0.04645041\n",
      " 0.60754485 0.17052412 0.06505159 0.94888554 0.96563203 0.80839735\n",
      " 0.30461377 0.09767211 0.68423303 0.44015249]\n",
      "Dataset:  spectrum/0/values_names: [b'value' b'num_shotnoise' b'norm' b'nmodes']\n",
      "Group:    spectrum/2\n",
      "Dataset:  spectrum/2/coords_names: [b'k']\n",
      "Dataset:  spectrum/2/k: [0.0025 0.0075 0.0125 0.0175 0.0225 0.0275 0.0325 0.0375 0.0425 0.0475\n",
      " 0.0525 0.0575 0.0625 0.0675 0.0725 0.0775 0.0825 0.0875 0.0925 0.0975\n",
      " 0.1025 0.1075 0.1125 0.1175 0.1225 0.1275 0.1325 0.1375 0.1425 0.1475\n",
      " 0.1525 0.1575 0.1625 0.1675 0.1725 0.1775 0.1825 0.1875 0.1925 0.1975]\n",
      "Dataset:  spectrum/2/k_edges: [[0.    0.005]\n",
      " [0.005 0.01 ]\n",
      " [0.01  0.015]\n",
      " [0.015 0.02 ]\n",
      " [0.02  0.025]\n",
      " [0.025 0.03 ]\n",
      " [0.03  0.035]\n",
      " [0.035 0.04 ]\n",
      " [0.04  0.045]\n",
      " [0.045 0.05 ]\n",
      " [0.05  0.055]\n",
      " [0.055 0.06 ]\n",
      " [0.06  0.065]\n",
      " [0.065 0.07 ]\n",
      " [0.07  0.075]\n",
      " [0.075 0.08 ]\n",
      " [0.08  0.085]\n",
      " [0.085 0.09 ]\n",
      " [0.09  0.095]\n",
      " [0.095 0.1  ]\n",
      " [0.1   0.105]\n",
      " [0.105 0.11 ]\n",
      " [0.11  0.115]\n",
      " [0.115 0.12 ]\n",
      " [0.12  0.125]\n",
      " [0.125 0.13 ]\n",
      " [0.13  0.135]\n",
      " [0.135 0.14 ]\n",
      " [0.14  0.145]\n",
      " [0.145 0.15 ]\n",
      " [0.15  0.155]\n",
      " [0.155 0.16 ]\n",
      " [0.16  0.165]\n",
      " [0.165 0.17 ]\n",
      " [0.17  0.175]\n",
      " [0.175 0.18 ]\n",
      " [0.18  0.185]\n",
      " [0.185 0.19 ]\n",
      " [0.19  0.195]\n",
      " [0.195 0.2  ]]\n",
      "Dataset:  spectrum/2/name: b'mesh2spectrumpole'\n",
      "Dataset:  spectrum/2/nmodes: [1 1 1 1 1 1 1 1 1 1 1 1 1 1 1 1 1 1 1 1 1 1 1 1 1 1 1 1 1 1 1 1 1 1 1 1 1\n",
      " 1 1 1]\n",
      "Dataset:  spectrum/2/norm: [1. 1. 1. 1. 1. 1. 1. 1. 1. 1. 1. 1. 1. 1. 1. 1. 1. 1. 1. 1. 1. 1. 1. 1.\n",
      " 1. 1. 1. 1. 1. 1. 1. 1. 1. 1. 1. 1. 1. 1. 1. 1.]\n",
      "Dataset:  spectrum/2/num_shotnoise: [0. 0. 0. 0. 0. 0. 0. 0. 0. 0. 0. 0. 0. 0. 0. 0. 0. 0. 0. 0. 0. 0. 0. 0.\n",
      " 0. 0. 0. 0. 0. 0. 0. 0. 0. 0. 0. 0. 0. 0. 0. 0.]\n",
      "Dataset:  spectrum/2/value: [0.12203823 0.49517691 0.03438852 0.9093204  0.25877998 0.66252228\n",
      " 0.31171108 0.52006802 0.54671028 0.18485446 0.96958463 0.77513282\n",
      " 0.93949894 0.89482735 0.59789998 0.92187424 0.0884925  0.19598286\n",
      " 0.04522729 0.32533033 0.38867729 0.27134903 0.82873751 0.35675333\n",
      " 0.28093451 0.54269608 0.14092422 0.80219698 0.07455064 0.98688694\n",
      " 0.77224477 0.19871568 0.00552212 0.81546143 0.70685734 0.72900717\n",
      " 0.77127035 0.07404465 0.35846573 0.11586906]\n",
      "Dataset:  spectrum/2/values_names: [b'value' b'num_shotnoise' b'norm' b'nmodes']\n",
      "Group:    spectrum/4\n",
      "Dataset:  spectrum/4/coords_names: [b'k']\n",
      "Dataset:  spectrum/4/k: [0.0025 0.0075 0.0125 0.0175 0.0225 0.0275 0.0325 0.0375 0.0425 0.0475\n",
      " 0.0525 0.0575 0.0625 0.0675 0.0725 0.0775 0.0825 0.0875 0.0925 0.0975\n",
      " 0.1025 0.1075 0.1125 0.1175 0.1225 0.1275 0.1325 0.1375 0.1425 0.1475\n",
      " 0.1525 0.1575 0.1625 0.1675 0.1725 0.1775 0.1825 0.1875 0.1925 0.1975]\n",
      "Dataset:  spectrum/4/k_edges: [[0.    0.005]\n",
      " [0.005 0.01 ]\n",
      " [0.01  0.015]\n",
      " [0.015 0.02 ]\n",
      " [0.02  0.025]\n",
      " [0.025 0.03 ]\n",
      " [0.03  0.035]\n",
      " [0.035 0.04 ]\n",
      " [0.04  0.045]\n",
      " [0.045 0.05 ]\n",
      " [0.05  0.055]\n",
      " [0.055 0.06 ]\n",
      " [0.06  0.065]\n",
      " [0.065 0.07 ]\n",
      " [0.07  0.075]\n",
      " [0.075 0.08 ]\n",
      " [0.08  0.085]\n",
      " [0.085 0.09 ]\n",
      " [0.09  0.095]\n",
      " [0.095 0.1  ]\n",
      " [0.1   0.105]\n",
      " [0.105 0.11 ]\n",
      " [0.11  0.115]\n",
      " [0.115 0.12 ]\n",
      " [0.12  0.125]\n",
      " [0.125 0.13 ]\n",
      " [0.13  0.135]\n",
      " [0.135 0.14 ]\n",
      " [0.14  0.145]\n",
      " [0.145 0.15 ]\n",
      " [0.15  0.155]\n",
      " [0.155 0.16 ]\n",
      " [0.16  0.165]\n",
      " [0.165 0.17 ]\n",
      " [0.17  0.175]\n",
      " [0.175 0.18 ]\n",
      " [0.18  0.185]\n",
      " [0.185 0.19 ]\n",
      " [0.19  0.195]\n",
      " [0.195 0.2  ]]\n",
      "Dataset:  spectrum/4/name: b'mesh2spectrumpole'\n",
      "Dataset:  spectrum/4/nmodes: [1 1 1 1 1 1 1 1 1 1 1 1 1 1 1 1 1 1 1 1 1 1 1 1 1 1 1 1 1 1 1 1 1 1 1 1 1\n",
      " 1 1 1]\n",
      "Dataset:  spectrum/4/norm: [1. 1. 1. 1. 1. 1. 1. 1. 1. 1. 1. 1. 1. 1. 1. 1. 1. 1. 1. 1. 1. 1. 1. 1.\n",
      " 1. 1. 1. 1. 1. 1. 1. 1. 1. 1. 1. 1. 1. 1. 1. 1.]\n",
      "Dataset:  spectrum/4/num_shotnoise: [0. 0. 0. 0. 0. 0. 0. 0. 0. 0. 0. 0. 0. 0. 0. 0. 0. 0. 0. 0. 0. 0. 0. 0.\n",
      " 0. 0. 0. 0. 0. 0. 0. 0. 0. 0. 0. 0. 0. 0. 0. 0.]\n",
      "Dataset:  spectrum/4/value: [0.86310343 0.62329813 0.33089802 0.06355835 0.31098232 0.32518332\n",
      " 0.72960618 0.63755747 0.88721274 0.47221493 0.11959425 0.71324479\n",
      " 0.76078505 0.5612772  0.77096718 0.4937956  0.52273283 0.42754102\n",
      " 0.02541913 0.10789143 0.03142919 0.63641041 0.31435598 0.50857069\n",
      " 0.90756647 0.24929223 0.41038292 0.75555114 0.22879817 0.07697991\n",
      " 0.28975145 0.16122129 0.92969765 0.80812038 0.63340376 0.87146059\n",
      " 0.80367208 0.18657006 0.892559   0.53934224]\n",
      "Dataset:  spectrum/4/values_names: [b'value' b'num_shotnoise' b'norm' b'nmodes']\n",
      "Dataset:  spectrum/labels_names: b'ells'\n",
      "Dataset:  spectrum/labels_values: [b'0' b'2' b'4']\n",
      "Dataset:  spectrum/name: b'mesh2spectrumpoles'\n"
     ]
    }
   ],
   "source": [
    "# Save as HDF5\n",
    "fn = test_dir / 'tree.h5'\n",
    "tree.write(fn)\n",
    "tree2 = read(fn)\n",
    "assert tree2 == tree\n",
    "\n",
    "# Let's explore the file!\n",
    "with h5py.File(fn, \"r\") as f:\n",
    "    f.visititems(print_type)"
   ]
  },
  {
   "cell_type": "code",
   "execution_count": 10,
   "id": "841d1cea-3fe9-44c4-be8b-7b0d713ae256",
   "metadata": {},
   "outputs": [],
   "source": [
    "# Save as txt\n",
    "fn = test_dir / 'tree.txt'\n",
    "tree.write(fn)\n",
    "tree2 = read(fn)\n",
    "assert tree2 == tree"
   ]
  },
  {
   "cell_type": "code",
   "execution_count": 11,
   "id": "c055a676-9ade-4589-b058-8394d896ca3b",
   "metadata": {},
   "outputs": [
    {
     "name": "stdout",
     "output_type": "stream",
     "text": [
      "_tests/tree:\n",
      "correlation  labels_names.txt  labels_values.txt  name.txt  spectrum\n",
      "\n",
      "_tests/tree/correlation:\n",
      "DD  DR\tlabels_names.txt  labels_values.txt  name.txt  RR\n",
      "\n",
      "_tests/tree/correlation/DD:\n",
      "attrs.json\t  counts.txt  name.txt\tvalues_names.txt\n",
      "coords_names.txt  mu.txt      s.txt\n",
      "\n",
      "_tests/tree/correlation/DR:\n",
      "attrs.json\t  counts.txt  name.txt\tvalues_names.txt\n",
      "coords_names.txt  mu.txt      s.txt\n",
      "\n",
      "_tests/tree/correlation/RR:\n",
      "attrs.json\t  counts.txt  name.txt\tvalues_names.txt\n",
      "coords_names.txt  mu.txt      s.txt\n",
      "\n",
      "_tests/tree/spectrum:\n",
      "0  2  4  labels_names.txt  labels_values.txt  name.txt\n",
      "\n",
      "_tests/tree/spectrum/0:\n",
      "coords_names.txt  k.txt     nmodes.txt\tnum_shotnoise.txt  value.txt\n",
      "k_edges.txt\t  name.txt  norm.txt\tvalues_names.txt\n",
      "\n",
      "_tests/tree/spectrum/2:\n",
      "coords_names.txt  k.txt     nmodes.txt\tnum_shotnoise.txt  value.txt\n",
      "k_edges.txt\t  name.txt  norm.txt\tvalues_names.txt\n",
      "\n",
      "_tests/tree/spectrum/4:\n",
      "coords_names.txt  k.txt     nmodes.txt\tnum_shotnoise.txt  value.txt\n",
      "k_edges.txt\t  name.txt  norm.txt\tvalues_names.txt\n"
     ]
    }
   ],
   "source": [
    "!ls -R _tests/tree"
   ]
  },
  {
   "cell_type": "markdown",
   "id": "7f975362-3f05-4a93-9d4f-1169a1ae79be",
   "metadata": {},
   "source": [
    "## Navigating\n",
    "Let's assume you are given a file, that you read with ``read(filename)``.\n",
    "How can you know what it is in there?\n",
    "Help yourself with print!"
   ]
  },
  {
   "cell_type": "code",
   "execution_count": 12,
   "id": "305b3f52-d356-4907-a45d-b8ff176500d3",
   "metadata": {},
   "outputs": [
    {
     "name": "stdout",
     "output_type": "stream",
     "text": [
      "ObservableTree(labels=[{'observables': 'correlation'}, {'observables': 'spectrum'}], size=15573)\n",
      "Mesh2SpectrumPoles(labels=[{'ells': 0}, {'ells': 2}, {'ells': 4}], size=120)\n",
      "Mesh2SpectrumPole(coords=('k',), values=('value', 'num_shotnoise', 'norm', 'nmodes'), shape=(40,))\n"
     ]
    }
   ],
   "source": [
    "observable = read(fn)\n",
    "print(observable)  # you know the first level, and the size\n",
    "print(observable.get(observables='spectrum'))\n",
    "print(observable.get(observables='spectrum', ells=2))"
   ]
  },
  {
   "cell_type": "markdown",
   "id": "6080f995-3da8-4ddc-862f-2c659d679505",
   "metadata": {},
   "source": [
    "## Match\n",
    "Let's say one has applied many ``select`` on an observable, and we would like to apply the same transforms to another observable.\n",
    "We can use ``match``.\n",
    "WARNING: the tree structure must be the same!"
   ]
  },
  {
   "cell_type": "code",
   "execution_count": 13,
   "id": "ce9a79f5-ef31-4ad4-b6d6-0a36b1a76b25",
   "metadata": {},
   "outputs": [],
   "source": [
    "observable1 = observable.at(observables='spectrum').get(ells=[0, 2])  # restrict 'spectrum' to ells = [0, 2]\n",
    "observable1 = observable1.at(observables='spectrum').at(2).at(k=(0., 0.1)).select(k=slice(2, None, 2))  # then rebinning in [0, 0.1]\n",
    "\n",
    "# Let's try to reproduce this with observable2:\n",
    "observable2 = observable.match(observable1)\n",
    "assert observable2 == observable1  # yeah!\n",
    "\n",
    "spectrum = get_spectrum(seed=84)\n",
    "tree = ObservableTree([correlation, spectrum], observables=['correlation', 'spectrum'])\n",
    "tree2 = tree.match(observable1)\n",
    "assert tree2 != observable1  # different because spectrum values are different\n",
    "assert tree2.size == observable1.size"
   ]
  },
  {
   "cell_type": "markdown",
   "id": "759fe84c-fc8a-496d-9009-fc6dee158329",
   "metadata": {},
   "source": [
    "## Sum\n",
    "\n",
    "You can \"sum\" several observables (with same tree structure & shape).\n",
    "Useful to average measurements in two different regions (NGC and SGC), for example."
   ]
  },
  {
   "cell_type": "code",
   "execution_count": 14,
   "id": "83c430a2-6132-4b1e-a2cb-3faa5b44c881",
   "metadata": {},
   "outputs": [],
   "source": [
    "spectra = [get_spectrum(seed=84), get_spectrum(seed=128)]\n",
    "spectrum = spectra[0] + spectra[1]\n",
    "# Or:\n",
    "spectrum2 = lsstypes.sum(spectra)\n",
    "assert spectrum2 == spectrum"
   ]
  },
  {
   "cell_type": "markdown",
   "id": "ea8de7b4-60cb-48ee-87bf-758c0dcb82c0",
   "metadata": {},
   "source": [
    "## Join\n",
    "\n",
    "You can \"join\" several **trees** (i.e. not leaf). Useful to take glue together monopole and quadrupole from one measurement, and hexadecapole from another, for example."
   ]
  },
  {
   "cell_type": "code",
   "execution_count": 15,
   "id": "9da704d6-8aaf-43cc-8289-15cc2ff8ee0b",
   "metadata": {},
   "outputs": [],
   "source": [
    "spectrum2 = lsstypes.join([spectrum.get(ells=[0, 2]), spectrum.get(ells=[4])])\n",
    "assert spectrum2 == spectrum"
   ]
  },
  {
   "cell_type": "markdown",
   "id": "3fc677d1-225c-4930-856f-7008b560441a",
   "metadata": {},
   "source": [
    "## **Window matrix**\n",
    "\n",
    "The window matrix relates an observable to a theory."
   ]
  },
  {
   "cell_type": "code",
   "execution_count": 16,
   "id": "f83acf61-4668-4611-8e0a-ff19116c5a13",
   "metadata": {},
   "outputs": [
    {
     "name": "stdout",
     "output_type": "stream",
     "text": [
      "Old shape, new shape = (40, 120), (35, 120)\n",
      "Mesh2SpectrumPoles(labels=[{'ells': 0}, {'ells': 2}, {'ells': 4}], size=60) (25, 60)\n",
      "Mesh2SpectrumPoles(labels=[{'ells': 0}, {'ells': 2}, {'ells': 4}], size=55) (25, 55)\n"
     ]
    },
    {
     "data": {
      "image/png": "[encoded data removed]",
      "text/plain": [
       "<Figure size 750x900 with 7 Axes>"
      ]
     },
     "metadata": {},
     "output_type": "display_data"
    }
   ],
   "source": [
    "observable = get_spectrum(ells=(0, 2), size=20)\n",
    "theory = get_spectrum(ells=(0, 2, 4), size=40)\n",
    "\n",
    "from lsstypes import WindowMatrix\n",
    "\n",
    "rng = np.random.RandomState(seed=42)\n",
    "value = rng.uniform(0., 1., size=(observable.size, theory.size))\n",
    "winmat = WindowMatrix(value=value, theory=theory, observable=observable)\n",
    "\n",
    "# Main attributes\n",
    "winmat.value()  # window array\n",
    "assert winmat.value().shape == (observable.size, theory.size)\n",
    "\n",
    "# To apply the window to a theory (ObservableLeaf, ObservableTree or numpy array)\n",
    "array = winmat.dot(theory)  # returns a numpy array\n",
    "\n",
    "# Let's say we want to select observed k in (0, 0.15); let's use the at syntax!\n",
    "oshape = winmat.shape\n",
    "winmat = winmat.at.observable.select(k=(0, 0.15))\n",
    "assert np.all(winmat.observable.get(0).k < 0.15)\n",
    "print(f'Old shape, new shape = {oshape}, {winmat.shape}')\n",
    "\n",
    "# Let's further truncate the quadrupole to k < 0.1\n",
    "winmat = winmat.at.observable.at(2).select(k=(0, 0.1))\n",
    "assert np.all(winmat.observable.get(2).k < 0.1)\n",
    "\n",
    "# We can also rebin, e.g. the theory:\n",
    "winmat = winmat.at.theory.select(k=slice(0, None, 2))\n",
    "# And rebin the hexadecapole theory further for k > 0.1\n",
    "print(winmat.theory, winmat.shape)\n",
    "winmat = winmat.at.theory.at(ells=4).at(k=(0.1, 1.)).select(k=slice(0, None, 2))\n",
    "print(winmat.theory, winmat.shape)\n",
    "\n",
    "# You can sum window matrices\n",
    "winmat2 = winmat + winmat\n",
    "assert np.allclose(winmat2.value(), winmat.value())\n",
    "\n",
    "\n",
    "# Plot the matrix\n",
    "winmat.plot(show=True);"
   ]
  },
  {
   "cell_type": "markdown",
   "id": "aa94d8f2-1e65-4526-ae74-5c26f2919c73",
   "metadata": {},
   "source": [
    "## Covariance matrix\n",
    "\n",
    "The covariance matrix quantifies the uncertainty on the measurement."
   ]
  },
  {
   "cell_type": "code",
   "execution_count": 17,
   "id": "800b942d-395c-437d-bebb-79d954b58f05",
   "metadata": {},
   "outputs": [
    {
     "data": {
      "image/png": "[encoded data removed]",
      "text/plain": [
       "<Figure size 1125x900 with 10 Axes>"
      ]
     },
     "metadata": {},
     "output_type": "display_data"
    }
   ],
   "source": [
    "import lsstypes\n",
    "from lsstypes import CovarianceMatrix\n",
    "\n",
    "observable = get_spectrum(ells=(0, 2, 4), size=40)\n",
    "\n",
    "rng = np.random.RandomState(seed=42)\n",
    "value = rng.uniform(0., 1., size=(observable.size,) * 2)\n",
    "covmat = CovarianceMatrix(value=value, observable=observable)\n",
    "\n",
    "# Main attributes\n",
    "covmat.value()  # covariance array\n",
    "covmat.corrcoef()  # correlation array\n",
    "covmat.std()  # standard deviation array\n",
    "\n",
    "# You can also bin a covariance matrix from many realizations:\n",
    "covmat = lsstypes.cov([get_spectrum(ells=(0, 2, 4), size=20, seed=seed) for seed in range(20)])\n",
    "\n",
    "# You can rebin with the at syntax\n",
    "covmat = covmat.at.observable.at(4).select(k=slice(0, 20, 2))\n",
    "\n",
    "# And plot\n",
    "covmat.plot(show=True);"
   ]
  },
  {
   "cell_type": "markdown",
   "id": "a122a665-1a80-4ecb-9aae-87bb88dc54fe",
   "metadata": {},
   "source": [
    "## Gaussian Likelihood\n",
    "\n",
    "One can build a Gaussian likelihood from the observed data, the window matrix and the covariance matrix."
   ]
  },
  {
   "cell_type": "code",
   "execution_count": 18,
   "id": "754f79fc-c0a2-4edb-ae53-d0d1d772d910",
   "metadata": {},
   "outputs": [],
   "source": [
    "from lsstypes import GaussianLikelihood\n",
    "\n",
    "observable = get_spectrum(ells=(0, 2), size=40)\n",
    "theory = get_spectrum(ells=(0, 2, 4), size=80)\n",
    "\n",
    "rng = np.random.RandomState(seed=42)\n",
    "\n",
    "value = rng.uniform(0., 1., size=(observable.size, theory.size))\n",
    "winmat = WindowMatrix(value=value, observable=observable, theory=theory)\n",
    "covmat = lsstypes.cov([get_spectrum(ells=(0, 2), size=40, seed=seed) for seed in range(20)])\n",
    "\n",
    "likelihood = GaussianLikelihood(observable=observable, window=winmat, covariance=covmat)\n",
    "\n",
    "# Main attributes\n",
    "chi2 = likelihood.chi2(theory)  # return chi2 for the given input theory\n",
    "\n",
    "# You can rebin with the at syntax\n",
    "likelihood = likelihood.at.observable.at(2).select(k=slice(0, 20, 2))\n",
    "assert likelihood.observable.size == likelihood.window.shape[0] == likelihood.covariance.shape[0]"
   ]
  }
 ],
 "metadata": {
  "kernelspec": {
   "display_name": "Python 3 (ipykernel)",
   "language": "python",
   "name": "python3"
  },
  "language_info": {
   "codemirror_mode": {
    "name": "ipython",
    "version": 3
   },
   "file_extension": ".py",
   "mimetype": "text/x-python",
   "name": "python",
   "nbconvert_exporter": "python",
   "pygments_lexer": "ipython3",
   "version": "3.10.16"
  }
 },
 "nbformat": 4,
 "nbformat_minor": 5
}
