{
 "cells": [
  {
   "cell_type": "markdown",
   "id": "16748a53-a5c1-47cb-b31c-5c3947e09563",
   "metadata": {},
   "source": [
    "# **lsstypes**: hands-on\n",
    "\n",
    "Let's explain how types are defined in **lsstypes**."
   ]
  },
  {
   "cell_type": "markdown",
   "id": "31659f34-9799-4829-b824-408bb481ead0",
   "metadata": {},
   "source": [
    "## **ObservableLeaf**, **ObservableTree**\n",
    "\n",
    "**ObservableLeaf** represents the most basic data unit. Typically:\n",
    "- one power spectrum multipole\n",
    "- pair counts\n",
    "- one BAO parameter\n",
    "- one angular power spectrum\n",
    "- ...\n",
    "\n",
    "Let's consider an example below."
   ]
  },
  {
   "cell_type": "markdown",
   "id": "bd43bf32-8e42-496f-ad5b-781c1286b72f",
   "metadata": {},
   "source": [
    "## **ObervableLeaf**"
   ]
  },
  {
   "cell_type": "code",
   "execution_count": 1,
   "id": "3154fbca-68cd-4871-a104-12434dd21717",
   "metadata": {},
   "outputs": [],
   "source": [
    "from pathlib import Path\n",
    "import numpy as np\n",
    "\n",
    "from lsstypes import ObservableLeaf, read\n",
    "\n",
    "s = np.linspace(0., 200., 51)\n",
    "mu = np.linspace(-1., 1., 101)\n",
    "rng = np.random.RandomState(seed=42)\n",
    "counts = 1. + rng.uniform(size=(s.size, mu.size))\n",
    "# Specify all data entries, and the name of the coordinate axes\n",
    "# Optionally, some extra attributes\n",
    "counts = ObservableLeaf(counts=counts, s=s, mu=mu, coords=['s', 'mu'], attrs=dict(los='x'))"
   ]
  },
  {
   "cell_type": "code",
   "execution_count": 2,
   "id": "36f8aac2-7f98-4c83-a8f4-105193b37390",
   "metadata": {},
   "outputs": [
    {
     "name": "stdout",
     "output_type": "stream",
     "text": [
      "New shape is (46, 101), old shape is (51, 101).\n",
      "[  0.   4.   8.  12.  16.  20.  24.  28.  32.  36.  40.  44.  48.  52.\n",
      "  56.  60.  64.  68.  72.  76.  80.  84.  88.  92.  96. 100. 104. 108.\n",
      " 112. 116. 120. 124. 128. 132. 136. 140. 144. 148. 184. 188. 192. 196.\n",
      " 200.]\n"
     ]
    }
   ],
   "source": [
    "# Let's play with this object\n",
    "\n",
    "assert np.array_equal(counts.coords('s'), counts.s)\n",
    "assert np.array_equal(counts.coords('mu'), counts.mu)\n",
    "assert np.array_equal(counts.value(), counts.counts)\n",
    "\n",
    "# We can slice it\n",
    "counts2 = counts.select(s=(0., 180.))\n",
    "print(f'New shape is {counts2.shape}, old shape is {counts.shape}.')\n",
    "\n",
    "# Let's say that within the range s = (10., 180.) we want to select s = (0., 150.)\n",
    "counts2 = counts.at(s=(10., 180.)).select(s=(0., 150.))\n",
    "print(counts2.s)\n",
    "# There is a gap between 150 and 180, as expected!\n",
    "# NOTE: This will become relevant if we want to rebin in a portion of the array"
   ]
  },
  {
   "cell_type": "code",
   "execution_count": 3,
   "id": "10a4b94c-5ec0-4758-b2b7-c01b73daac97",
   "metadata": {},
   "outputs": [
    {
     "name": "stdout",
     "output_type": "stream",
     "text": [
      "Dataset:  coords_names: [b's' b'mu']\n",
      "Dataset:  counts: [[1.37454012 1.95071431 1.73199394 ... 1.02541913 1.10789143 1.03142919]\n",
      " [1.63641041 1.31435598 1.50857069 ... 1.77987555 1.64203165 1.08413996]\n",
      " [1.16162871 1.89855419 1.60642906 ... 1.05168172 1.53135463 1.54063512]\n",
      " ...\n",
      " [1.76351584 1.10868254 1.98125758 ... 1.62321037 1.74162729 1.80509731]\n",
      " [1.84503965 1.39505334 1.05126346 ... 1.5286566  1.33444253 1.51931269]\n",
      " [1.19755591 1.8051744  1.18577695 ... 1.62350531 1.13128797 1.30969171]]\n",
      "Dataset:  mu: [-1.   -0.98 -0.96 -0.94 -0.92 -0.9  -0.88 -0.86 -0.84 -0.82 -0.8  -0.78\n",
      " -0.76 -0.74 -0.72 -0.7  -0.68 -0.66 -0.64 -0.62 -0.6  -0.58 -0.56 -0.54\n",
      " -0.52 -0.5  -0.48 -0.46 -0.44 -0.42 -0.4  -0.38 -0.36 -0.34 -0.32 -0.3\n",
      " -0.28 -0.26 -0.24 -0.22 -0.2  -0.18 -0.16 -0.14 -0.12 -0.1  -0.08 -0.06\n",
      " -0.04 -0.02  0.    0.02  0.04  0.06  0.08  0.1   0.12  0.14  0.16  0.18\n",
      "  0.2   0.22  0.24  0.26  0.28  0.3   0.32  0.34  0.36  0.38  0.4   0.42\n",
      "  0.44  0.46  0.48  0.5   0.52  0.54  0.56  0.58  0.6   0.62  0.64  0.66\n",
      "  0.68  0.7   0.72  0.74  0.76  0.78  0.8   0.82  0.84  0.86  0.88  0.9\n",
      "  0.92  0.94  0.96  0.98  1.  ]\n",
      "Dataset:  name: b'leaf_base'\n",
      "Dataset:  s: [  0.   4.   8.  12.  16.  20.  24.  28.  32.  36.  40.  44.  48.  52.\n",
      "  56.  60.  64.  68.  72.  76.  80.  84.  88.  92.  96. 100. 104. 108.\n",
      " 112. 116. 120. 124. 128. 132. 136. 140. 144. 148. 152. 156. 160. 164.\n",
      " 168. 172. 176. 180. 184. 188. 192. 196. 200.]\n",
      "Dataset:  values_names: [b'counts']\n"
     ]
    }
   ],
   "source": [
    "# Now let's save it!\n",
    "test_dir = Path('_tests')\n",
    "\n",
    "# As HDF5\n",
    "fn = test_dir / 'test.h5'\n",
    "counts.write(fn)\n",
    "counts2 = read(fn)\n",
    "assert counts2 == counts\n",
    "\n",
    "# Let's explore the file!\n",
    "import h5py\n",
    "\n",
    "def print_type(name, obj):\n",
    "    if isinstance(obj, h5py.Group):\n",
    "        print(f\"Group:    {name}\")\n",
    "    elif isinstance(obj, h5py.Dataset):\n",
    "        print(f\"Dataset:  {name}: {obj[...]}\")\n",
    "\n",
    "with h5py.File(fn, \"r\") as f:\n",
    "    f.visititems(print_type)"
   ]
  },
  {
   "cell_type": "code",
   "execution_count": 4,
   "id": "c159151f-42b5-42f6-bb78-e7a79214ab5a",
   "metadata": {},
   "outputs": [],
   "source": [
    "# We can also save as txt\n",
    "\n",
    "fn = test_dir / 'test.txt'\n",
    "counts.write(fn)\n",
    "counts2 = read(fn)\n",
    "assert counts2 == counts"
   ]
  },
  {
   "cell_type": "code",
   "execution_count": 5,
   "id": "54f67dfa-54dd-46ba-9735-7204264d969c",
   "metadata": {},
   "outputs": [
    {
     "name": "stdout",
     "output_type": "stream",
     "text": [
      "_tests/test:\n",
      "attrs.json\t  counts.txt  name.txt\tvalues_names.txt\n",
      "coords_names.txt  mu.txt      s.txt\n"
     ]
    }
   ],
   "source": [
    "!ls -R _tests/test"
   ]
  },
  {
   "cell_type": "markdown",
   "id": "7f8bda85-d8d1-4f7c-be84-f8a8eaa20971",
   "metadata": {},
   "source": [
    "## **ObervableTree**\n",
    "\n",
    "An **ObservableTree** is a collection of **ObservableTree** or **ObservableLeaf** instances."
   ]
  },
  {
   "cell_type": "code",
   "execution_count": 6,
   "id": "649c8b5c-f1f4-4c48-a67b-903d226bd278",
   "metadata": {},
   "outputs": [
    {
     "name": "stdout",
     "output_type": "stream",
     "text": [
      "['pairs']\n",
      "[{'pairs': 'DD'}, {'pairs': 'DR'}, {'pairs': 'RR'}]\n",
      "New shape is [  0.   4.   8.  12.  16.  20.  24.  28.  32.  36.  40.  44.  48.  52.\n",
      "  56.  60.  64.  68.  72.  76.  80.  84.  88.  92.  96. 100. 104. 108.\n",
      " 112. 116. 120. 124. 128. 132. 136. 140. 144. 148. 152. 156. 160. 164.\n",
      " 168. 172. 176. 180. 184. 188. 192. 196. 200.], old shape is (51, 101).\n"
     ]
    }
   ],
   "source": [
    "from lsstypes import ObservableTree\n",
    "\n",
    "labels = ['DD', 'DR', 'RR']\n",
    "leaves = []\n",
    "for label in labels:\n",
    "    counts = 1. + rng.uniform(size=(s.size, mu.size))\n",
    "    leaves.append(ObservableLeaf(counts=counts, s=s, mu=mu, coords=['s', 'mu'], attrs=dict(los='x')))\n",
    "\n",
    "tree = ObservableTree(leaves, pairs=labels)\n",
    "print(tree.labels(keys_only=True))\n",
    "print(tree.labels())\n",
    "assert len(tree.value()) == tree.size\n",
    "\n",
    "# Now let's say we want to select pair DD only\n",
    "tree2 = tree.at(pairs='DD').select(s=(10., 80.))\n",
    "s1, s2 = tree2.get(pairs='DD').shape, tree2.get('DR').shape\n",
    "print(f'New shape is {s}, old shape is {s2}.')\n",
    "# Collective select\n",
    "tree2 = tree.select(s=(10., 80.))\n",
    "assert tree2.get(pairs='DD').shape == tree2.get(pairs='DR').shape\n",
    "\n",
    "correlation = tree"
   ]
  },
  {
   "cell_type": "code",
   "execution_count": 7,
   "id": "75bcaef0-99fe-426c-b8e5-bfb37934054f",
   "metadata": {},
   "outputs": [],
   "source": [
    "# We can build something more complicated!\n",
    "\n",
    "# Let's use some types defined in lsstypes/types.py\n",
    "\n",
    "from lsstypes import Spectrum2Pole, Spectrum2Poles\n",
    "\n",
    "def get_spectrum(seed=None):\n",
    "    ells = [0, 2, 4]\n",
    "    rng = np.random.RandomState(seed=seed)\n",
    "    poles = []\n",
    "    for ell in ells:\n",
    "        k = np.linspace(0., 0.2, 41)\n",
    "        poles.append(Spectrum2Pole(k=k, num=rng.uniform(size=k.size)))\n",
    "    return Spectrum2Poles(poles, ells=ells)\n",
    "\n",
    "spectrum = get_spectrum()\n",
    "\n",
    "tree = ObservableTree([correlation, spectrum], observables=['correlation', 'spectrum'])\n",
    "tree.get(observables='correlation', pairs='DD').counts;"
   ]
  },
  {
   "cell_type": "code",
   "execution_count": 8,
   "id": "407c503f-b194-41ae-9176-0a14fd695cd1",
   "metadata": {},
   "outputs": [
    {
     "name": "stdout",
     "output_type": "stream",
     "text": [
      "Group:    correlation\n",
      "Group:    correlation/DD\n",
      "Dataset:  correlation/DD/coords_names: [b's' b'mu']\n",
      "Dataset:  correlation/DD/counts: [[1.20179495 1.9088265  1.76040007 ... 1.47510836 1.38605094 1.96670614]\n",
      " [1.69716625 1.08322307 1.86295962 ... 1.73316038 1.99542151 1.2875112 ]\n",
      " [1.5382201  1.53332355 1.40564526 ... 1.23875177 1.21354285 1.41114434]\n",
      " ...\n",
      " [1.2171404  1.37364082 1.3329121  ... 1.72081632 1.24120677 1.16814109]\n",
      " [1.97209599 1.61755731 1.98141572 ... 1.2014615  1.23419443 1.52126775]\n",
      " [1.17209985 1.30543169 1.32146248 ... 1.8456263  1.91123431 1.82062739]]\n",
      "Dataset:  correlation/DD/mu: [-1.   -0.98 -0.96 -0.94 -0.92 -0.9  -0.88 -0.86 -0.84 -0.82 -0.8  -0.78\n",
      " -0.76 -0.74 -0.72 -0.7  -0.68 -0.66 -0.64 -0.62 -0.6  -0.58 -0.56 -0.54\n",
      " -0.52 -0.5  -0.48 -0.46 -0.44 -0.42 -0.4  -0.38 -0.36 -0.34 -0.32 -0.3\n",
      " -0.28 -0.26 -0.24 -0.22 -0.2  -0.18 -0.16 -0.14 -0.12 -0.1  -0.08 -0.06\n",
      " -0.04 -0.02  0.    0.02  0.04  0.06  0.08  0.1   0.12  0.14  0.16  0.18\n",
      "  0.2   0.22  0.24  0.26  0.28  0.3   0.32  0.34  0.36  0.38  0.4   0.42\n",
      "  0.44  0.46  0.48  0.5   0.52  0.54  0.56  0.58  0.6   0.62  0.64  0.66\n",
      "  0.68  0.7   0.72  0.74  0.76  0.78  0.8   0.82  0.84  0.86  0.88  0.9\n",
      "  0.92  0.94  0.96  0.98  1.  ]\n",
      "Dataset:  correlation/DD/name: b'leaf_base'\n",
      "Dataset:  correlation/DD/s: [  0.   4.   8.  12.  16.  20.  24.  28.  32.  36.  40.  44.  48.  52.\n",
      "  56.  60.  64.  68.  72.  76.  80.  84.  88.  92.  96. 100. 104. 108.\n",
      " 112. 116. 120. 124. 128. 132. 136. 140. 144. 148. 152. 156. 160. 164.\n",
      " 168. 172. 176. 180. 184. 188. 192. 196. 200.]\n",
      "Dataset:  correlation/DD/values_names: [b'counts']\n",
      "Group:    correlation/DR\n",
      "Dataset:  correlation/DR/coords_names: [b's' b'mu']\n",
      "Dataset:  correlation/DR/counts: [[1.12794994 1.99791513 1.25858422 ... 1.17178911 1.27871372 1.15885269]\n",
      " [1.1956663  1.97297738 1.15311345 ... 1.02634733 1.73912467 1.3180097 ]\n",
      " [1.79630019 1.43173282 1.4529981  ... 1.66130396 1.91125615 1.40375661]\n",
      " ...\n",
      " [1.70478429 1.85080596 1.9543786  ... 1.79922711 1.27153348 1.03318763]\n",
      " [1.51701472 1.19668643 1.75784629 ... 1.62219765 1.01213746 1.4886439 ]\n",
      " [1.64420548 1.91819177 1.38133582 ... 1.56620482 1.23792416 1.98865655]]\n",
      "Dataset:  correlation/DR/mu: [-1.   -0.98 -0.96 -0.94 -0.92 -0.9  -0.88 -0.86 -0.84 -0.82 -0.8  -0.78\n",
      " -0.76 -0.74 -0.72 -0.7  -0.68 -0.66 -0.64 -0.62 -0.6  -0.58 -0.56 -0.54\n",
      " -0.52 -0.5  -0.48 -0.46 -0.44 -0.42 -0.4  -0.38 -0.36 -0.34 -0.32 -0.3\n",
      " -0.28 -0.26 -0.24 -0.22 -0.2  -0.18 -0.16 -0.14 -0.12 -0.1  -0.08 -0.06\n",
      " -0.04 -0.02  0.    0.02  0.04  0.06  0.08  0.1   0.12  0.14  0.16  0.18\n",
      "  0.2   0.22  0.24  0.26  0.28  0.3   0.32  0.34  0.36  0.38  0.4   0.42\n",
      "  0.44  0.46  0.48  0.5   0.52  0.54  0.56  0.58  0.6   0.62  0.64  0.66\n",
      "  0.68  0.7   0.72  0.74  0.76  0.78  0.8   0.82  0.84  0.86  0.88  0.9\n",
      "  0.92  0.94  0.96  0.98  1.  ]\n",
      "Dataset:  correlation/DR/name: b'leaf_base'\n",
      "Dataset:  correlation/DR/s: [  0.   4.   8.  12.  16.  20.  24.  28.  32.  36.  40.  44.  48.  52.\n",
      "  56.  60.  64.  68.  72.  76.  80.  84.  88.  92.  96. 100. 104. 108.\n",
      " 112. 116. 120. 124. 128. 132. 136. 140. 144. 148. 152. 156. 160. 164.\n",
      " 168. 172. 176. 180. 184. 188. 192. 196. 200.]\n",
      "Dataset:  correlation/DR/values_names: [b'counts']\n",
      "Group:    correlation/RR\n",
      "Dataset:  correlation/RR/coords_names: [b's' b'mu']\n",
      "Dataset:  correlation/RR/counts: [[1.50086995 1.19416208 1.47706675 ... 1.30683813 1.10193191 1.06272159]\n",
      " [1.34886672 1.80473706 1.91872375 ... 1.77419049 1.24003842 1.72910328]\n",
      " [1.25190827 1.3952925  1.98316229 ... 1.38416018 1.90947711 1.83690345]\n",
      " ...\n",
      " [1.29329465 1.65485567 1.04012879 ... 1.62307103 1.73675635 1.34910412]\n",
      " [1.9443977  1.70926209 1.42179882 ... 1.43294712 1.48846948 1.06451261]\n",
      " [1.48598178 1.42631967 1.71254427 ... 1.31559884 1.96402829 1.68934086]]\n",
      "Dataset:  correlation/RR/mu: [-1.   -0.98 -0.96 -0.94 -0.92 -0.9  -0.88 -0.86 -0.84 -0.82 -0.8  -0.78\n",
      " -0.76 -0.74 -0.72 -0.7  -0.68 -0.66 -0.64 -0.62 -0.6  -0.58 -0.56 -0.54\n",
      " -0.52 -0.5  -0.48 -0.46 -0.44 -0.42 -0.4  -0.38 -0.36 -0.34 -0.32 -0.3\n",
      " -0.28 -0.26 -0.24 -0.22 -0.2  -0.18 -0.16 -0.14 -0.12 -0.1  -0.08 -0.06\n",
      " -0.04 -0.02  0.    0.02  0.04  0.06  0.08  0.1   0.12  0.14  0.16  0.18\n",
      "  0.2   0.22  0.24  0.26  0.28  0.3   0.32  0.34  0.36  0.38  0.4   0.42\n",
      "  0.44  0.46  0.48  0.5   0.52  0.54  0.56  0.58  0.6   0.62  0.64  0.66\n",
      "  0.68  0.7   0.72  0.74  0.76  0.78  0.8   0.82  0.84  0.86  0.88  0.9\n",
      "  0.92  0.94  0.96  0.98  1.  ]\n",
      "Dataset:  correlation/RR/name: b'leaf_base'\n",
      "Dataset:  correlation/RR/s: [  0.   4.   8.  12.  16.  20.  24.  28.  32.  36.  40.  44.  48.  52.\n",
      "  56.  60.  64.  68.  72.  76.  80.  84.  88.  92.  96. 100. 104. 108.\n",
      " 112. 116. 120. 124. 128. 132. 136. 140. 144. 148. 152. 156. 160. 164.\n",
      " 168. 172. 176. 180. 184. 188. 192. 196. 200.]\n",
      "Dataset:  correlation/RR/values_names: [b'counts']\n",
      "Dataset:  correlation/labels_names: b'pairs'\n",
      "Dataset:  correlation/labels_values: [b'DD' b'DR' b'RR']\n",
      "Dataset:  correlation/name: b'tree_base'\n",
      "Dataset:  labels_names: b'observables'\n",
      "Dataset:  labels_values: [b'correlation' b'spectrum']\n",
      "Dataset:  name: b'tree_base'\n",
      "Group:    spectrum\n",
      "Group:    spectrum/0\n",
      "Dataset:  spectrum/0/coords_names: [b'k']\n",
      "Dataset:  spectrum/0/k: [0.    0.005 0.01  0.015 0.02  0.025 0.03  0.035 0.04  0.045 0.05  0.055\n",
      " 0.06  0.065 0.07  0.075 0.08  0.085 0.09  0.095 0.1   0.105 0.11  0.115\n",
      " 0.12  0.125 0.13  0.135 0.14  0.145 0.15  0.155 0.16  0.165 0.17  0.175\n",
      " 0.18  0.185 0.19  0.195 0.2  ]\n",
      "Dataset:  spectrum/0/name: b'spectrum2pole'\n",
      "Dataset:  spectrum/0/norm: [1. 1. 1. 1. 1. 1. 1. 1. 1. 1. 1. 1. 1. 1. 1. 1. 1. 1. 1. 1. 1. 1. 1. 1.\n",
      " 1. 1. 1. 1. 1. 1. 1. 1. 1. 1. 1. 1. 1. 1. 1. 1. 1.]\n",
      "Dataset:  spectrum/0/num: [0.75126318 0.29329456 0.55464516 0.98533408 0.19818087 0.58618854\n",
      " 0.90552971 0.27556311 0.27444246 0.99926015 0.40898761 0.95159215\n",
      " 0.77169628 0.9816565  0.01586593 0.01970626 0.02781    0.16102549\n",
      " 0.13705794 0.88546802 0.08000562 0.44394145 0.24025245 0.66129601\n",
      " 0.84975862 0.97374359 0.31490642 0.59391919 0.46783769 0.63487939\n",
      " 0.18445167 0.53359567 0.13238208 0.01594134 0.7582353  0.76016493\n",
      " 0.36328838 0.8691349  0.1587278  0.31356126 0.0490478 ]\n",
      "Dataset:  spectrum/0/num_shotnoise: [0. 0. 0. 0. 0. 0. 0. 0. 0. 0. 0. 0. 0. 0. 0. 0. 0. 0. 0. 0. 0. 0. 0. 0.\n",
      " 0. 0. 0. 0. 0. 0. 0. 0. 0. 0. 0. 0. 0. 0. 0. 0. 0.]\n",
      "Dataset:  spectrum/0/values_names: [b'num' b'num_shotnoise' b'norm']\n",
      "Group:    spectrum/2\n",
      "Dataset:  spectrum/2/coords_names: [b'k']\n",
      "Dataset:  spectrum/2/k: [0.    0.005 0.01  0.015 0.02  0.025 0.03  0.035 0.04  0.045 0.05  0.055\n",
      " 0.06  0.065 0.07  0.075 0.08  0.085 0.09  0.095 0.1   0.105 0.11  0.115\n",
      " 0.12  0.125 0.13  0.135 0.14  0.145 0.15  0.155 0.16  0.165 0.17  0.175\n",
      " 0.18  0.185 0.19  0.195 0.2  ]\n",
      "Dataset:  spectrum/2/name: b'spectrum2pole'\n",
      "Dataset:  spectrum/2/norm: [1. 1. 1. 1. 1. 1. 1. 1. 1. 1. 1. 1. 1. 1. 1. 1. 1. 1. 1. 1. 1. 1. 1. 1.\n",
      " 1. 1. 1. 1. 1. 1. 1. 1. 1. 1. 1. 1. 1. 1. 1. 1. 1.]\n",
      "Dataset:  spectrum/2/num: [0.10995989 0.12436568 0.95230326 0.77704384 0.96092096 0.7285558\n",
      " 0.38806907 0.45036301 0.90076794 0.87050725 0.81541231 0.2147563\n",
      " 0.38483439 0.52055871 0.91100665 0.03435959 0.74668262 0.92310921\n",
      " 0.13714462 0.19536646 0.41238395 0.28705612 0.96901061 0.28208481\n",
      " 0.2422543  0.57581085 0.82598652 0.20447647 0.77670984 0.41173701\n",
      " 0.13209686 0.76140037 0.98740724 0.75468078 0.04820333 0.61572831\n",
      " 0.56788875 0.96005085 0.70048173 0.5156269  0.77825799]\n",
      "Dataset:  spectrum/2/num_shotnoise: [0. 0. 0. 0. 0. 0. 0. 0. 0. 0. 0. 0. 0. 0. 0. 0. 0. 0. 0. 0. 0. 0. 0. 0.\n",
      " 0. 0. 0. 0. 0. 0. 0. 0. 0. 0. 0. 0. 0. 0. 0. 0. 0.]\n",
      "Dataset:  spectrum/2/values_names: [b'num' b'num_shotnoise' b'norm']\n",
      "Group:    spectrum/4\n",
      "Dataset:  spectrum/4/coords_names: [b'k']\n",
      "Dataset:  spectrum/4/k: [0.    0.005 0.01  0.015 0.02  0.025 0.03  0.035 0.04  0.045 0.05  0.055\n",
      " 0.06  0.065 0.07  0.075 0.08  0.085 0.09  0.095 0.1   0.105 0.11  0.115\n",
      " 0.12  0.125 0.13  0.135 0.14  0.145 0.15  0.155 0.16  0.165 0.17  0.175\n",
      " 0.18  0.185 0.19  0.195 0.2  ]\n",
      "Dataset:  spectrum/4/name: b'spectrum2pole'\n",
      "Dataset:  spectrum/4/norm: [1. 1. 1. 1. 1. 1. 1. 1. 1. 1. 1. 1. 1. 1. 1. 1. 1. 1. 1. 1. 1. 1. 1. 1.\n",
      " 1. 1. 1. 1. 1. 1. 1. 1. 1. 1. 1. 1. 1. 1. 1. 1. 1.]\n",
      "Dataset:  spectrum/4/num: [9.79714253e-01 5.61344663e-01 2.38338669e-01 4.65145292e-01\n",
      " 1.50255237e-04 4.72572759e-01 3.70165377e-01 3.08931992e-01\n",
      " 3.55651567e-01 5.97018977e-01 2.64903091e-01 1.73740673e-01\n",
      " 7.74343312e-01 8.55357148e-01 5.95593697e-01 8.26696005e-01\n",
      " 5.83789608e-01 8.12624904e-01 2.90000050e-02 7.19998575e-01\n",
      " 5.34062963e-01 2.29113435e-01 3.42069368e-02 7.02242625e-01\n",
      " 3.83874678e-01 6.84985317e-01 4.03308743e-02 8.68348362e-01\n",
      " 1.41804312e-01 2.54540308e-01 7.09232526e-01 2.63182792e-01\n",
      " 3.19395056e-01 3.04503863e-01 9.50366085e-01 3.52072272e-01\n",
      " 7.51338757e-01 8.42455242e-01 6.83371756e-01 1.28130788e-01\n",
      " 4.37395362e-01]\n",
      "Dataset:  spectrum/4/num_shotnoise: [0. 0. 0. 0. 0. 0. 0. 0. 0. 0. 0. 0. 0. 0. 0. 0. 0. 0. 0. 0. 0. 0. 0. 0.\n",
      " 0. 0. 0. 0. 0. 0. 0. 0. 0. 0. 0. 0. 0. 0. 0. 0. 0.]\n",
      "Dataset:  spectrum/4/values_names: [b'num' b'num_shotnoise' b'norm']\n",
      "Dataset:  spectrum/labels_names: b'ells'\n",
      "Dataset:  spectrum/labels_values: [b'0' b'2' b'4']\n",
      "Dataset:  spectrum/name: b'spectrum2poles'\n"
     ]
    }
   ],
   "source": [
    "# Save as HDF5\n",
    "fn = test_dir / 'tree.h5'\n",
    "tree.write(fn)\n",
    "tree2 = read(fn)\n",
    "assert tree2 == tree\n",
    "\n",
    "# Let's explore the file!\n",
    "with h5py.File(fn, \"r\") as f:\n",
    "    f.visititems(print_type)"
   ]
  },
  {
   "cell_type": "code",
   "execution_count": 9,
   "id": "841d1cea-3fe9-44c4-be8b-7b0d713ae256",
   "metadata": {},
   "outputs": [],
   "source": [
    "# Save as txt\n",
    "fn = test_dir / 'tree.txt'\n",
    "tree.write(fn)\n",
    "tree2 = read(fn)\n",
    "assert tree2 == tree"
   ]
  },
  {
   "cell_type": "code",
   "execution_count": 10,
   "id": "c055a676-9ade-4589-b058-8394d896ca3b",
   "metadata": {},
   "outputs": [
    {
     "name": "stdout",
     "output_type": "stream",
     "text": [
      "_tests/tree:\n",
      "attrs.json   labels_names.txt\tname.txt\n",
      "correlation  labels_values.txt\tspectrum\n",
      "\n",
      "_tests/tree/correlation:\n",
      "attrs.json  DD\tDR  labels_names.txt  labels_values.txt  name.txt  RR\n",
      "\n",
      "_tests/tree/correlation/DD:\n",
      "attrs.json\t  counts.txt  name.txt\tvalues_names.txt\n",
      "coords_names.txt  mu.txt      s.txt\n",
      "\n",
      "_tests/tree/correlation/DR:\n",
      "attrs.json\t  counts.txt  name.txt\tvalues_names.txt\n",
      "coords_names.txt  mu.txt      s.txt\n",
      "\n",
      "_tests/tree/correlation/RR:\n",
      "attrs.json\t  counts.txt  name.txt\tvalues_names.txt\n",
      "coords_names.txt  mu.txt      s.txt\n",
      "\n",
      "_tests/tree/spectrum:\n",
      "0  2  4  attrs.json  labels_names.txt  labels_values.txt  name.txt\n",
      "\n",
      "_tests/tree/spectrum/0:\n",
      "attrs.json\t  k.txt     norm.txt\t       num.txt\n",
      "coords_names.txt  name.txt  num_shotnoise.txt  values_names.txt\n",
      "\n",
      "_tests/tree/spectrum/2:\n",
      "attrs.json\t  k.txt     norm.txt\t       num.txt\n",
      "coords_names.txt  name.txt  num_shotnoise.txt  values_names.txt\n",
      "\n",
      "_tests/tree/spectrum/4:\n",
      "attrs.json\t  k.txt     norm.txt\t       num.txt\n",
      "coords_names.txt  name.txt  num_shotnoise.txt  values_names.txt\n"
     ]
    }
   ],
   "source": [
    "!ls -R _tests/tree"
   ]
  },
  {
   "cell_type": "code",
   "execution_count": null,
   "id": "04ae88e5-b78a-4b73-b25c-f9bfa77d9d85",
   "metadata": {},
   "outputs": [],
   "source": []
  }
 ],
 "metadata": {
  "kernelspec": {
   "display_name": "Python 3 (ipykernel)",
   "language": "python",
   "name": "python3"
  },
  "language_info": {
   "codemirror_mode": {
    "name": "ipython",
    "version": 3
   },
   "file_extension": ".py",
   "mimetype": "text/x-python",
   "name": "python",
   "nbconvert_exporter": "python",
   "pygments_lexer": "ipython3",
   "version": "3.10.16"
  }
 },
 "nbformat": 4,
 "nbformat_minor": 5
}
